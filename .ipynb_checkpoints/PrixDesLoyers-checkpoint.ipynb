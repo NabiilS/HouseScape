{
 "cells": [
  {
   "cell_type": "code",
   "execution_count": 1,
   "metadata": {
    "scrolled": true
   },
   "outputs": [
    {
     "name": "stderr",
     "output_type": "stream",
     "text": [
      "G:\\Etude\\HouseScapeProject\\houseScape.py:56: FutureWarning: The frame.append method is deprecated and will be removed from pandas in a future version. Use pandas.concat instead.\n",
      "  results = results.append(parse_page(page))\n",
      "G:\\Etude\\HouseScapeProject\\houseScape.py:56: FutureWarning: The frame.append method is deprecated and will be removed from pandas in a future version. Use pandas.concat instead.\n",
      "  results = results.append(parse_page(page))\n",
      "G:\\Etude\\HouseScapeProject\\houseScape.py:56: FutureWarning: The frame.append method is deprecated and will be removed from pandas in a future version. Use pandas.concat instead.\n",
      "  results = results.append(parse_page(page))\n",
      "G:\\Etude\\HouseScapeProject\\houseScape.py:56: FutureWarning: The frame.append method is deprecated and will be removed from pandas in a future version. Use pandas.concat instead.\n",
      "  results = results.append(parse_page(page))\n",
      "G:\\Etude\\HouseScapeProject\\houseScape.py:56: FutureWarning: The frame.append method is deprecated and will be removed from pandas in a future version. Use pandas.concat instead.\n",
      "  results = results.append(parse_page(page))\n",
      "G:\\Etude\\HouseScapeProject\\houseScape.py:56: FutureWarning: The frame.append method is deprecated and will be removed from pandas in a future version. Use pandas.concat instead.\n",
      "  results = results.append(parse_page(page))\n",
      "G:\\Etude\\HouseScapeProject\\houseScape.py:56: FutureWarning: The frame.append method is deprecated and will be removed from pandas in a future version. Use pandas.concat instead.\n",
      "  results = results.append(parse_page(page))\n",
      "G:\\Etude\\HouseScapeProject\\houseScape.py:56: FutureWarning: The frame.append method is deprecated and will be removed from pandas in a future version. Use pandas.concat instead.\n",
      "  results = results.append(parse_page(page))\n",
      "G:\\Etude\\HouseScapeProject\\houseScape.py:56: FutureWarning: The frame.append method is deprecated and will be removed from pandas in a future version. Use pandas.concat instead.\n",
      "  results = results.append(parse_page(page))\n",
      "G:\\Etude\\HouseScapeProject\\houseScape.py:56: FutureWarning: The frame.append method is deprecated and will be removed from pandas in a future version. Use pandas.concat instead.\n",
      "  results = results.append(parse_page(page))\n"
     ]
    },
    {
     "name": "stdout",
     "output_type": "stream",
     "text": [
      "    price (€)             type adresse  \\\n",
      "0      710000      Appartement   75012   \n",
      "1      850000      Appartement   75016   \n",
      "2      897500  Maison 2 étages   92600   \n",
      "3      850000      Appartement   92100   \n",
      "4      279000      Appartement   92100   \n",
      "..        ...              ...     ...   \n",
      "20    1150000      Appartement   75003   \n",
      "21     423000      Appartement   93500   \n",
      "22     595000           Maison   78300   \n",
      "23    2362000      Appartement   75016   \n",
      "24     180000      Appartement   91700   \n",
      "\n",
      "                                          description  \n",
      "0          3 pièces2 chambres71 m²Étage 1/10Ascenseur  \n",
      "1           4 pièces3 chambres99 m²Étage 2/8Ascenseur  \n",
      "2         4 pièces3 chambres95 m²Terrain 98 m²Parking  \n",
      "3           4 pièces3 chambres99 m²Étage 2/8Ascenseur  \n",
      "4                     2 pièces1 chambre30 m²Étage 3/4  \n",
      "..                                                ...  \n",
      "20          3 pièces2 chambres85 m²Étage 1/6Ascenseur  \n",
      "21           3 pièces1 chambre65 m²Étage 5/53 balcons  \n",
      "22              6 pièces4 chambres98 m²Terrain 150 m²  \n",
      "23  5 pièces4 chambres197 m²Étage 0/7ParkingAscenseur  \n",
      "24  2 pièces1 chambre44 m²Étage 0/5TerrasseJardinP...  \n",
      "\n",
      "[250 rows x 4 columns]\n"
     ]
    },
    {
     "name": "stderr",
     "output_type": "stream",
     "text": [
      "G:\\Etude\\HouseScapeProject\\houseScape.py:56: FutureWarning: The frame.append method is deprecated and will be removed from pandas in a future version. Use pandas.concat instead.\n",
      "  results = results.append(parse_page(page))\n",
      "G:\\Etude\\HouseScapeProject\\houseScape.py:56: FutureWarning: The frame.append method is deprecated and will be removed from pandas in a future version. Use pandas.concat instead.\n",
      "  results = results.append(parse_page(page))\n",
      "G:\\Etude\\HouseScapeProject\\houseScape.py:56: FutureWarning: The frame.append method is deprecated and will be removed from pandas in a future version. Use pandas.concat instead.\n",
      "  results = results.append(parse_page(page))\n",
      "G:\\Etude\\HouseScapeProject\\houseScape.py:56: FutureWarning: The frame.append method is deprecated and will be removed from pandas in a future version. Use pandas.concat instead.\n",
      "  results = results.append(parse_page(page))\n",
      "G:\\Etude\\HouseScapeProject\\houseScape.py:56: FutureWarning: The frame.append method is deprecated and will be removed from pandas in a future version. Use pandas.concat instead.\n",
      "  results = results.append(parse_page(page))\n",
      "G:\\Etude\\HouseScapeProject\\houseScape.py:56: FutureWarning: The frame.append method is deprecated and will be removed from pandas in a future version. Use pandas.concat instead.\n",
      "  results = results.append(parse_page(page))\n",
      "G:\\Etude\\HouseScapeProject\\houseScape.py:56: FutureWarning: The frame.append method is deprecated and will be removed from pandas in a future version. Use pandas.concat instead.\n",
      "  results = results.append(parse_page(page))\n",
      "G:\\Etude\\HouseScapeProject\\houseScape.py:56: FutureWarning: The frame.append method is deprecated and will be removed from pandas in a future version. Use pandas.concat instead.\n",
      "  results = results.append(parse_page(page))\n",
      "G:\\Etude\\HouseScapeProject\\houseScape.py:56: FutureWarning: The frame.append method is deprecated and will be removed from pandas in a future version. Use pandas.concat instead.\n",
      "  results = results.append(parse_page(page))\n",
      "G:\\Etude\\HouseScapeProject\\houseScape.py:56: FutureWarning: The frame.append method is deprecated and will be removed from pandas in a future version. Use pandas.concat instead.\n",
      "  results = results.append(parse_page(page))\n"
     ]
    },
    {
     "data": {
      "text/html": [
       "<div>\n",
       "<style scoped>\n",
       "    .dataframe tbody tr th:only-of-type {\n",
       "        vertical-align: middle;\n",
       "    }\n",
       "\n",
       "    .dataframe tbody tr th {\n",
       "        vertical-align: top;\n",
       "    }\n",
       "\n",
       "    .dataframe thead th {\n",
       "        text-align: right;\n",
       "    }\n",
       "</style>\n",
       "<table border=\"1\" class=\"dataframe\">\n",
       "  <thead>\n",
       "    <tr style=\"text-align: right;\">\n",
       "      <th></th>\n",
       "      <th>price (€)</th>\n",
       "    </tr>\n",
       "  </thead>\n",
       "  <tbody>\n",
       "    <tr>\n",
       "      <th>count</th>\n",
       "      <td>2.500000e+02</td>\n",
       "    </tr>\n",
       "    <tr>\n",
       "      <th>mean</th>\n",
       "      <td>5.316899e+05</td>\n",
       "    </tr>\n",
       "    <tr>\n",
       "      <th>std</th>\n",
       "      <td>3.129114e+05</td>\n",
       "    </tr>\n",
       "    <tr>\n",
       "      <th>min</th>\n",
       "      <td>1.150000e+05</td>\n",
       "    </tr>\n",
       "    <tr>\n",
       "      <th>25%</th>\n",
       "      <td>3.200000e+05</td>\n",
       "    </tr>\n",
       "    <tr>\n",
       "      <th>50%</th>\n",
       "      <td>4.625000e+05</td>\n",
       "    </tr>\n",
       "    <tr>\n",
       "      <th>75%</th>\n",
       "      <td>6.460000e+05</td>\n",
       "    </tr>\n",
       "    <tr>\n",
       "      <th>max</th>\n",
       "      <td>2.495000e+06</td>\n",
       "    </tr>\n",
       "  </tbody>\n",
       "</table>\n",
       "</div>"
      ],
      "text/plain": [
       "          price (€)\n",
       "count  2.500000e+02\n",
       "mean   5.316899e+05\n",
       "std    3.129114e+05\n",
       "min    1.150000e+05\n",
       "25%    3.200000e+05\n",
       "50%    4.625000e+05\n",
       "75%    6.460000e+05\n",
       "max    2.495000e+06"
      ]
     },
     "execution_count": 1,
     "metadata": {},
     "output_type": "execute_result"
    }
   ],
   "source": [
    "import houseScape\n",
    "results = houseScape.parse_pages()"
   ]
  },
  {
   "cell_type": "code",
   "execution_count": null,
   "metadata": {},
   "outputs": [],
   "source": [
    "results"
   ]
  },
  {
   "cell_type": "code",
   "execution_count": 2,
   "metadata": {},
   "outputs": [
    {
     "data": {
      "text/html": [
       "<div>\n",
       "<style scoped>\n",
       "    .dataframe tbody tr th:only-of-type {\n",
       "        vertical-align: middle;\n",
       "    }\n",
       "\n",
       "    .dataframe tbody tr th {\n",
       "        vertical-align: top;\n",
       "    }\n",
       "\n",
       "    .dataframe thead th {\n",
       "        text-align: right;\n",
       "    }\n",
       "</style>\n",
       "<table border=\"1\" class=\"dataframe\">\n",
       "  <thead>\n",
       "    <tr style=\"text-align: right;\">\n",
       "      <th></th>\n",
       "      <th>price (€)</th>\n",
       "    </tr>\n",
       "  </thead>\n",
       "  <tbody>\n",
       "    <tr>\n",
       "      <th>count</th>\n",
       "      <td>2.500000e+02</td>\n",
       "    </tr>\n",
       "    <tr>\n",
       "      <th>mean</th>\n",
       "      <td>5.316899e+05</td>\n",
       "    </tr>\n",
       "    <tr>\n",
       "      <th>std</th>\n",
       "      <td>3.129114e+05</td>\n",
       "    </tr>\n",
       "    <tr>\n",
       "      <th>min</th>\n",
       "      <td>1.150000e+05</td>\n",
       "    </tr>\n",
       "    <tr>\n",
       "      <th>25%</th>\n",
       "      <td>3.200000e+05</td>\n",
       "    </tr>\n",
       "    <tr>\n",
       "      <th>50%</th>\n",
       "      <td>4.625000e+05</td>\n",
       "    </tr>\n",
       "    <tr>\n",
       "      <th>75%</th>\n",
       "      <td>6.460000e+05</td>\n",
       "    </tr>\n",
       "    <tr>\n",
       "      <th>max</th>\n",
       "      <td>2.495000e+06</td>\n",
       "    </tr>\n",
       "  </tbody>\n",
       "</table>\n",
       "</div>"
      ],
      "text/plain": [
       "          price (€)\n",
       "count  2.500000e+02\n",
       "mean   5.316899e+05\n",
       "std    3.129114e+05\n",
       "min    1.150000e+05\n",
       "25%    3.200000e+05\n",
       "50%    4.625000e+05\n",
       "75%    6.460000e+05\n",
       "max    2.495000e+06"
      ]
     },
     "execution_count": 2,
     "metadata": {},
     "output_type": "execute_result"
    }
   ],
   "source": [
    "results.describe()"
   ]
  },
  {
   "cell_type": "code",
   "execution_count": null,
   "metadata": {},
   "outputs": [],
   "source": []
  }
 ],
 "metadata": {
  "kernelspec": {
   "display_name": "Python 3 (ipykernel)",
   "language": "python",
   "name": "python3"
  },
  "language_info": {
   "codemirror_mode": {
    "name": "ipython",
    "version": 3
   },
   "file_extension": ".py",
   "mimetype": "text/x-python",
   "name": "python",
   "nbconvert_exporter": "python",
   "pygments_lexer": "ipython3",
   "version": "3.10.4"
  },
  "vscode": {
   "interpreter": {
    "hash": "369f2c481f4da34e4445cda3fffd2e751bd1c4d706f27375911949ba6bb62e1c"
   }
  }
 },
 "nbformat": 4,
 "nbformat_minor": 2
}
